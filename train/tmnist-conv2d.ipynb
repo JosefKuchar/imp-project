{
 "cells": [
  {
   "cell_type": "code",
   "execution_count": 4,
   "id": "8dffd695",
   "metadata": {
    "_cell_guid": "79c7e3d0-c299-4dcb-8224-4455121ee9b0",
    "_uuid": "d629ff2d2480ee46fbb7e2d37f6b5fab8052498a",
    "execution": {
     "iopub.execute_input": "2021-08-26T15:21:30.460608Z",
     "iopub.status.busy": "2021-08-26T15:21:30.460019Z",
     "iopub.status.idle": "2021-08-26T15:21:35.478899Z",
     "shell.execute_reply": "2021-08-26T15:21:35.477926Z",
     "shell.execute_reply.started": "2021-08-26T15:20:43.189378Z"
    },
    "papermill": {
     "duration": 5.047227,
     "end_time": "2021-08-26T15:21:35.479051",
     "exception": false,
     "start_time": "2021-08-26T15:21:30.431824",
     "status": "completed"
    },
    "tags": []
   },
   "outputs": [],
   "source": [
    "import numpy as np\n",
    "import pandas as pd\n",
    "import random\n",
    "\n",
    "from keras.models import Sequential\n",
    "from keras.layers import Dense\n",
    "from keras.layers import Dropout\n",
    "from keras.layers import Flatten\n",
    "from keras.callbacks import EarlyStopping\n",
    "from keras.layers import Conv2D\n",
    "from keras.layers import MaxPooling2D\n",
    "\n",
    "from sklearn.preprocessing import LabelBinarizer\n",
    "from sklearn.model_selection import train_test_split\n",
    "from sklearn.metrics import accuracy_score\n",
    "import matplotlib.pyplot as plt\n"
   ]
  },
  {
   "cell_type": "markdown",
   "id": "f3c3bcb2",
   "metadata": {
    "papermill": {
     "duration": 0.015241,
     "end_time": "2021-08-26T15:21:35.509514",
     "exception": false,
     "start_time": "2021-08-26T15:21:35.494273",
     "status": "completed"
    },
    "tags": []
   },
   "source": [
    "import tensorflow as tf\n",
    "try:\n",
    "    tpu = tf.distribute.cluster_resolver.TPUClusterResolver()\n",
    "    print('Device:', tpu.master())\n",
    "    tf.config.experimental_connect_to_cluster(tpu)\n",
    "    tf.tpu.experimental.initialize_tpu_system(tpu)\n",
    "    strategy = tf.distribute.experimental.TPUStrategy(tpu)\n",
    "except:\n",
    "    strategy = tf.distribute.get_strategy()\n",
    "print('Number of replicas:', strategy.num_replicas_in_sync)"
   ]
  },
  {
   "cell_type": "code",
   "execution_count": 5,
   "id": "5df39b06",
   "metadata": {
    "execution": {
     "iopub.execute_input": "2021-08-26T15:21:35.543176Z",
     "iopub.status.busy": "2021-08-26T15:21:35.542673Z",
     "iopub.status.idle": "2021-08-26T15:21:37.891068Z",
     "shell.execute_reply": "2021-08-26T15:21:37.890645Z",
     "shell.execute_reply.started": "2021-08-26T15:20:43.202063Z"
    },
    "papermill": {
     "duration": 2.366833,
     "end_time": "2021-08-26T15:21:37.891189",
     "exception": false,
     "start_time": "2021-08-26T15:21:35.524356",
     "status": "completed"
    },
    "tags": []
   },
   "outputs": [
    {
     "data": {
      "text/html": [
       "<div>\n",
       "<style scoped>\n",
       "    .dataframe tbody tr th:only-of-type {\n",
       "        vertical-align: middle;\n",
       "    }\n",
       "\n",
       "    .dataframe tbody tr th {\n",
       "        vertical-align: top;\n",
       "    }\n",
       "\n",
       "    .dataframe thead th {\n",
       "        text-align: right;\n",
       "    }\n",
       "</style>\n",
       "<table border=\"1\" class=\"dataframe\">\n",
       "  <thead>\n",
       "    <tr style=\"text-align: right;\">\n",
       "      <th></th>\n",
       "      <th>names</th>\n",
       "      <th>labels</th>\n",
       "      <th>1</th>\n",
       "      <th>2</th>\n",
       "      <th>3</th>\n",
       "      <th>4</th>\n",
       "      <th>5</th>\n",
       "      <th>6</th>\n",
       "      <th>7</th>\n",
       "      <th>8</th>\n",
       "      <th>...</th>\n",
       "      <th>775</th>\n",
       "      <th>776</th>\n",
       "      <th>777</th>\n",
       "      <th>778</th>\n",
       "      <th>779</th>\n",
       "      <th>780</th>\n",
       "      <th>781</th>\n",
       "      <th>782</th>\n",
       "      <th>783</th>\n",
       "      <th>784</th>\n",
       "    </tr>\n",
       "  </thead>\n",
       "  <tbody>\n",
       "    <tr>\n",
       "      <th>0</th>\n",
       "      <td>GrandHotel-Regular</td>\n",
       "      <td>2</td>\n",
       "      <td>0</td>\n",
       "      <td>0</td>\n",
       "      <td>0</td>\n",
       "      <td>0</td>\n",
       "      <td>0</td>\n",
       "      <td>0</td>\n",
       "      <td>0</td>\n",
       "      <td>0</td>\n",
       "      <td>...</td>\n",
       "      <td>0</td>\n",
       "      <td>0</td>\n",
       "      <td>0</td>\n",
       "      <td>0</td>\n",
       "      <td>0</td>\n",
       "      <td>0</td>\n",
       "      <td>0</td>\n",
       "      <td>0</td>\n",
       "      <td>0</td>\n",
       "      <td>0</td>\n",
       "    </tr>\n",
       "    <tr>\n",
       "      <th>1</th>\n",
       "      <td>EncodeSansCondensed-Medium</td>\n",
       "      <td>8</td>\n",
       "      <td>0</td>\n",
       "      <td>0</td>\n",
       "      <td>0</td>\n",
       "      <td>0</td>\n",
       "      <td>0</td>\n",
       "      <td>0</td>\n",
       "      <td>0</td>\n",
       "      <td>0</td>\n",
       "      <td>...</td>\n",
       "      <td>0</td>\n",
       "      <td>0</td>\n",
       "      <td>0</td>\n",
       "      <td>0</td>\n",
       "      <td>0</td>\n",
       "      <td>0</td>\n",
       "      <td>0</td>\n",
       "      <td>0</td>\n",
       "      <td>0</td>\n",
       "      <td>0</td>\n",
       "    </tr>\n",
       "    <tr>\n",
       "      <th>2</th>\n",
       "      <td>Varela-Regular</td>\n",
       "      <td>4</td>\n",
       "      <td>0</td>\n",
       "      <td>0</td>\n",
       "      <td>0</td>\n",
       "      <td>0</td>\n",
       "      <td>0</td>\n",
       "      <td>0</td>\n",
       "      <td>0</td>\n",
       "      <td>0</td>\n",
       "      <td>...</td>\n",
       "      <td>0</td>\n",
       "      <td>0</td>\n",
       "      <td>0</td>\n",
       "      <td>0</td>\n",
       "      <td>0</td>\n",
       "      <td>0</td>\n",
       "      <td>0</td>\n",
       "      <td>0</td>\n",
       "      <td>0</td>\n",
       "      <td>0</td>\n",
       "    </tr>\n",
       "    <tr>\n",
       "      <th>3</th>\n",
       "      <td>ArefRuqaa-Bold</td>\n",
       "      <td>3</td>\n",
       "      <td>0</td>\n",
       "      <td>0</td>\n",
       "      <td>0</td>\n",
       "      <td>0</td>\n",
       "      <td>0</td>\n",
       "      <td>0</td>\n",
       "      <td>0</td>\n",
       "      <td>0</td>\n",
       "      <td>...</td>\n",
       "      <td>0</td>\n",
       "      <td>0</td>\n",
       "      <td>0</td>\n",
       "      <td>0</td>\n",
       "      <td>0</td>\n",
       "      <td>0</td>\n",
       "      <td>0</td>\n",
       "      <td>0</td>\n",
       "      <td>0</td>\n",
       "      <td>0</td>\n",
       "    </tr>\n",
       "    <tr>\n",
       "      <th>4</th>\n",
       "      <td>KulimPark-Regular</td>\n",
       "      <td>1</td>\n",
       "      <td>0</td>\n",
       "      <td>0</td>\n",
       "      <td>0</td>\n",
       "      <td>0</td>\n",
       "      <td>0</td>\n",
       "      <td>0</td>\n",
       "      <td>0</td>\n",
       "      <td>0</td>\n",
       "      <td>...</td>\n",
       "      <td>0</td>\n",
       "      <td>0</td>\n",
       "      <td>0</td>\n",
       "      <td>0</td>\n",
       "      <td>0</td>\n",
       "      <td>0</td>\n",
       "      <td>0</td>\n",
       "      <td>0</td>\n",
       "      <td>0</td>\n",
       "      <td>0</td>\n",
       "    </tr>\n",
       "    <tr>\n",
       "      <th>...</th>\n",
       "      <td>...</td>\n",
       "      <td>...</td>\n",
       "      <td>...</td>\n",
       "      <td>...</td>\n",
       "      <td>...</td>\n",
       "      <td>...</td>\n",
       "      <td>...</td>\n",
       "      <td>...</td>\n",
       "      <td>...</td>\n",
       "      <td>...</td>\n",
       "      <td>...</td>\n",
       "      <td>...</td>\n",
       "      <td>...</td>\n",
       "      <td>...</td>\n",
       "      <td>...</td>\n",
       "      <td>...</td>\n",
       "      <td>...</td>\n",
       "      <td>...</td>\n",
       "      <td>...</td>\n",
       "      <td>...</td>\n",
       "      <td>...</td>\n",
       "    </tr>\n",
       "    <tr>\n",
       "      <th>29895</th>\n",
       "      <td>Raleway[wght]</td>\n",
       "      <td>7</td>\n",
       "      <td>0</td>\n",
       "      <td>0</td>\n",
       "      <td>0</td>\n",
       "      <td>0</td>\n",
       "      <td>0</td>\n",
       "      <td>0</td>\n",
       "      <td>0</td>\n",
       "      <td>0</td>\n",
       "      <td>...</td>\n",
       "      <td>0</td>\n",
       "      <td>0</td>\n",
       "      <td>0</td>\n",
       "      <td>0</td>\n",
       "      <td>0</td>\n",
       "      <td>0</td>\n",
       "      <td>0</td>\n",
       "      <td>0</td>\n",
       "      <td>0</td>\n",
       "      <td>0</td>\n",
       "    </tr>\n",
       "    <tr>\n",
       "      <th>29896</th>\n",
       "      <td>Charm-Regular</td>\n",
       "      <td>5</td>\n",
       "      <td>0</td>\n",
       "      <td>0</td>\n",
       "      <td>0</td>\n",
       "      <td>0</td>\n",
       "      <td>0</td>\n",
       "      <td>0</td>\n",
       "      <td>0</td>\n",
       "      <td>0</td>\n",
       "      <td>...</td>\n",
       "      <td>0</td>\n",
       "      <td>0</td>\n",
       "      <td>0</td>\n",
       "      <td>0</td>\n",
       "      <td>0</td>\n",
       "      <td>0</td>\n",
       "      <td>0</td>\n",
       "      <td>0</td>\n",
       "      <td>0</td>\n",
       "      <td>0</td>\n",
       "    </tr>\n",
       "    <tr>\n",
       "      <th>29897</th>\n",
       "      <td>BigShouldersStencilDisplay-Black</td>\n",
       "      <td>0</td>\n",
       "      <td>0</td>\n",
       "      <td>0</td>\n",
       "      <td>0</td>\n",
       "      <td>0</td>\n",
       "      <td>0</td>\n",
       "      <td>0</td>\n",
       "      <td>0</td>\n",
       "      <td>0</td>\n",
       "      <td>...</td>\n",
       "      <td>0</td>\n",
       "      <td>0</td>\n",
       "      <td>0</td>\n",
       "      <td>0</td>\n",
       "      <td>0</td>\n",
       "      <td>0</td>\n",
       "      <td>0</td>\n",
       "      <td>0</td>\n",
       "      <td>0</td>\n",
       "      <td>0</td>\n",
       "    </tr>\n",
       "    <tr>\n",
       "      <th>29898</th>\n",
       "      <td>Gabriela-Regular</td>\n",
       "      <td>1</td>\n",
       "      <td>0</td>\n",
       "      <td>0</td>\n",
       "      <td>0</td>\n",
       "      <td>0</td>\n",
       "      <td>0</td>\n",
       "      <td>0</td>\n",
       "      <td>0</td>\n",
       "      <td>0</td>\n",
       "      <td>...</td>\n",
       "      <td>0</td>\n",
       "      <td>0</td>\n",
       "      <td>0</td>\n",
       "      <td>0</td>\n",
       "      <td>0</td>\n",
       "      <td>0</td>\n",
       "      <td>0</td>\n",
       "      <td>0</td>\n",
       "      <td>0</td>\n",
       "      <td>0</td>\n",
       "    </tr>\n",
       "    <tr>\n",
       "      <th>29899</th>\n",
       "      <td>Ovo-Regular</td>\n",
       "      <td>6</td>\n",
       "      <td>0</td>\n",
       "      <td>0</td>\n",
       "      <td>0</td>\n",
       "      <td>0</td>\n",
       "      <td>0</td>\n",
       "      <td>0</td>\n",
       "      <td>0</td>\n",
       "      <td>0</td>\n",
       "      <td>...</td>\n",
       "      <td>0</td>\n",
       "      <td>0</td>\n",
       "      <td>0</td>\n",
       "      <td>0</td>\n",
       "      <td>0</td>\n",
       "      <td>0</td>\n",
       "      <td>0</td>\n",
       "      <td>0</td>\n",
       "      <td>0</td>\n",
       "      <td>0</td>\n",
       "    </tr>\n",
       "  </tbody>\n",
       "</table>\n",
       "<p>29900 rows × 786 columns</p>\n",
       "</div>"
      ],
      "text/plain": [
       "                                  names  labels  1  2  3  4  5  6  7  8  ...  \\\n",
       "0                    GrandHotel-Regular       2  0  0  0  0  0  0  0  0  ...   \n",
       "1            EncodeSansCondensed-Medium       8  0  0  0  0  0  0  0  0  ...   \n",
       "2                        Varela-Regular       4  0  0  0  0  0  0  0  0  ...   \n",
       "3                        ArefRuqaa-Bold       3  0  0  0  0  0  0  0  0  ...   \n",
       "4                     KulimPark-Regular       1  0  0  0  0  0  0  0  0  ...   \n",
       "...                                 ...     ... .. .. .. .. .. .. .. ..  ...   \n",
       "29895                     Raleway[wght]       7  0  0  0  0  0  0  0  0  ...   \n",
       "29896                     Charm-Regular       5  0  0  0  0  0  0  0  0  ...   \n",
       "29897  BigShouldersStencilDisplay-Black       0  0  0  0  0  0  0  0  0  ...   \n",
       "29898                  Gabriela-Regular       1  0  0  0  0  0  0  0  0  ...   \n",
       "29899                       Ovo-Regular       6  0  0  0  0  0  0  0  0  ...   \n",
       "\n",
       "       775  776  777  778  779  780  781  782  783  784  \n",
       "0        0    0    0    0    0    0    0    0    0    0  \n",
       "1        0    0    0    0    0    0    0    0    0    0  \n",
       "2        0    0    0    0    0    0    0    0    0    0  \n",
       "3        0    0    0    0    0    0    0    0    0    0  \n",
       "4        0    0    0    0    0    0    0    0    0    0  \n",
       "...    ...  ...  ...  ...  ...  ...  ...  ...  ...  ...  \n",
       "29895    0    0    0    0    0    0    0    0    0    0  \n",
       "29896    0    0    0    0    0    0    0    0    0    0  \n",
       "29897    0    0    0    0    0    0    0    0    0    0  \n",
       "29898    0    0    0    0    0    0    0    0    0    0  \n",
       "29899    0    0    0    0    0    0    0    0    0    0  \n",
       "\n",
       "[29900 rows x 786 columns]"
      ]
     },
     "execution_count": 5,
     "metadata": {},
     "output_type": "execute_result"
    }
   ],
   "source": [
    "data = pd.read_csv('https://raw.githubusercontent.com/shreya-maher/DSEM_Datasets/main/TMNIST_Data.csv')\n",
    "data\n"
   ]
  },
  {
   "cell_type": "code",
   "execution_count": 6,
   "id": "c40ca0ad",
   "metadata": {
    "execution": {
     "iopub.execute_input": "2021-08-26T15:21:37.929263Z",
     "iopub.status.busy": "2021-08-26T15:21:37.928518Z",
     "iopub.status.idle": "2021-08-26T15:21:37.941206Z",
     "shell.execute_reply": "2021-08-26T15:21:37.940652Z",
     "shell.execute_reply.started": "2021-08-26T15:20:44.937198Z"
    },
    "papermill": {
     "duration": 0.034435,
     "end_time": "2021-08-26T15:21:37.941371",
     "exception": false,
     "start_time": "2021-08-26T15:21:37.906936",
     "status": "completed"
    },
    "tags": []
   },
   "outputs": [
    {
     "name": "stdout",
     "output_type": "stream",
     "text": [
      "['GrandHotel-Regular' 'EncodeSansCondensed-Medium' 'Varela-Regular' ...\n",
      " 'CourierPrime-Italic' 'Bentham-Regular' 'AveriaSerifLibre-Ligh']\n",
      "2990\n"
     ]
    }
   ],
   "source": [
    "print(data['names'].unique())\n",
    "print(data['names'].nunique())\n"
   ]
  },
  {
   "cell_type": "code",
   "execution_count": 7,
   "id": "abdd72db",
   "metadata": {
    "execution": {
     "iopub.execute_input": "2021-08-26T15:21:37.986627Z",
     "iopub.status.busy": "2021-08-26T15:21:37.985804Z",
     "iopub.status.idle": "2021-08-26T15:21:37.992532Z",
     "shell.execute_reply": "2021-08-26T15:21:37.992016Z",
     "shell.execute_reply.started": "2021-08-26T15:20:44.959293Z"
    },
    "papermill": {
     "duration": 0.035084,
     "end_time": "2021-08-26T15:21:37.992637",
     "exception": false,
     "start_time": "2021-08-26T15:21:37.957553",
     "status": "completed"
    },
    "tags": []
   },
   "outputs": [
    {
     "data": {
      "text/plain": [
       "names\n",
       "GrandHotel-Regular          10\n",
       "Laila-Regular               10\n",
       "Tajawal-Medium              10\n",
       "Numans-Regular              10\n",
       "PT_Sans-Web-Italic          10\n",
       "                            ..\n",
       "Thasadith-Bold              10\n",
       "CherryBomb-Regular          10\n",
       "NotoSansOriyaUI-Thin        10\n",
       "Kodchasan-SemiBoldItalic    10\n",
       "AveriaSerifLibre-Ligh       10\n",
       "Name: count, Length: 2990, dtype: int64"
      ]
     },
     "execution_count": 7,
     "metadata": {},
     "output_type": "execute_result"
    }
   ],
   "source": [
    "data['names'].value_counts()\n"
   ]
  },
  {
   "cell_type": "code",
   "execution_count": 8,
   "id": "b3ca98fb",
   "metadata": {
    "execution": {
     "iopub.execute_input": "2021-08-26T15:21:38.043730Z",
     "iopub.status.busy": "2021-08-26T15:21:38.038607Z",
     "iopub.status.idle": "2021-08-26T15:21:38.058431Z",
     "shell.execute_reply": "2021-08-26T15:21:38.057987Z",
     "shell.execute_reply.started": "2021-08-26T15:20:44.982964Z"
    },
    "papermill": {
     "duration": 0.049688,
     "end_time": "2021-08-26T15:21:38.058534",
     "exception": false,
     "start_time": "2021-08-26T15:21:38.008846",
     "status": "completed"
    },
    "tags": []
   },
   "outputs": [
    {
     "name": "stdout",
     "output_type": "stream",
     "text": [
      "29900\n"
     ]
    }
   ],
   "source": [
    "N=list(range(len(data)))\n",
    "n=len(data)\n",
    "print(n)\n",
    "random.seed(2021)\n",
    "random.shuffle(N)\n"
   ]
  },
  {
   "cell_type": "code",
   "execution_count": 9,
   "id": "1664a6ba",
   "metadata": {
    "execution": {
     "iopub.execute_input": "2021-08-26T15:21:38.103618Z",
     "iopub.status.busy": "2021-08-26T15:21:38.099322Z",
     "iopub.status.idle": "2021-08-26T15:21:38.341578Z",
     "shell.execute_reply": "2021-08-26T15:21:38.341016Z",
     "shell.execute_reply.started": "2021-08-26T15:20:45.035587Z"
    },
    "papermill": {
     "duration": 0.266976,
     "end_time": "2021-08-26T15:21:38.341729",
     "exception": false,
     "start_time": "2021-08-26T15:21:38.074753",
     "status": "completed"
    },
    "tags": []
   },
   "outputs": [],
   "source": [
    "trainY=data.loc[N[0:(n//4)*3],'labels']\n",
    "testY=data.loc[N[(n//4)*3:],'labels']\n",
    "data1=data.drop(['names','labels'],axis=1)\n",
    "trainX=data1.loc[N[0:(n//4)*3]]\n",
    "testX=data1.loc[N[(n//4)*3:]]\n"
   ]
  },
  {
   "cell_type": "code",
   "execution_count": 10,
   "id": "416ea48f",
   "metadata": {
    "execution": {
     "iopub.execute_input": "2021-08-26T15:21:38.382459Z",
     "iopub.status.busy": "2021-08-26T15:21:38.381626Z",
     "iopub.status.idle": "2021-08-26T15:21:38.393074Z",
     "shell.execute_reply": "2021-08-26T15:21:38.392602Z",
     "shell.execute_reply.started": "2021-08-26T15:20:45.345552Z"
    },
    "papermill": {
     "duration": 0.03332,
     "end_time": "2021-08-26T15:21:38.393199",
     "exception": false,
     "start_time": "2021-08-26T15:21:38.359879",
     "status": "completed"
    },
    "tags": []
   },
   "outputs": [
    {
     "data": {
      "text/plain": [
       "array([[1, 0, 0, ..., 0, 0, 0],\n",
       "       [0, 0, 0, ..., 0, 0, 0],\n",
       "       [0, 0, 0, ..., 0, 0, 0],\n",
       "       ...,\n",
       "       [0, 0, 0, ..., 0, 0, 0],\n",
       "       [0, 0, 1, ..., 0, 0, 0],\n",
       "       [0, 0, 0, ..., 0, 0, 0]])"
      ]
     },
     "execution_count": 10,
     "metadata": {},
     "output_type": "execute_result"
    }
   ],
   "source": [
    "binencoder = LabelBinarizer()\n",
    "y0 = trainY\n",
    "y = binencoder.fit_transform(y0)\n",
    "y\n"
   ]
  },
  {
   "cell_type": "code",
   "execution_count": 11,
   "id": "18f7d4b6",
   "metadata": {
    "execution": {
     "iopub.execute_input": "2021-08-26T15:21:38.432502Z",
     "iopub.status.busy": "2021-08-26T15:21:38.431948Z",
     "iopub.status.idle": "2021-08-26T15:21:38.436731Z",
     "shell.execute_reply": "2021-08-26T15:21:38.437261Z",
     "shell.execute_reply.started": "2021-08-26T15:20:45.361278Z"
    },
    "papermill": {
     "duration": 0.026697,
     "end_time": "2021-08-26T15:21:38.437438",
     "exception": false,
     "start_time": "2021-08-26T15:21:38.410741",
     "status": "completed"
    },
    "tags": []
   },
   "outputs": [
    {
     "name": "stdout",
     "output_type": "stream",
     "text": [
      "(22425, 28, 28)\n",
      "(7475, 28, 28)\n"
     ]
    }
   ],
   "source": [
    "X_images = trainX.values.reshape(-1,28,28)\n",
    "test_images = testX.values.reshape(-1,28,28)\n",
    "\n",
    "print(X_images.shape)\n",
    "print(test_images.shape)\n"
   ]
  },
  {
   "cell_type": "code",
   "execution_count": 12,
   "id": "3d4e5239",
   "metadata": {
    "execution": {
     "iopub.execute_input": "2021-08-26T15:21:38.482101Z",
     "iopub.status.busy": "2021-08-26T15:21:38.481104Z",
     "iopub.status.idle": "2021-08-26T15:21:38.950492Z",
     "shell.execute_reply": "2021-08-26T15:21:38.950967Z",
     "shell.execute_reply.started": "2021-08-26T15:20:45.371375Z"
    },
    "papermill": {
     "duration": 0.49673,
     "end_time": "2021-08-26T15:21:38.951118",
     "exception": false,
     "start_time": "2021-08-26T15:21:38.454388",
     "status": "completed"
    },
    "tags": []
   },
   "outputs": [
    {
     "data": {
      "image/png": "[encoded data removed]",
      "text/plain": [
       "<Figure size 900x900 with 9 Axes>"
      ]
     },
     "metadata": {},
     "output_type": "display_data"
    }
   ],
   "source": [
    "fig,axs = plt.subplots(3,3,figsize=(9,9))\n",
    "for i in range(9):\n",
    "    r=i//3\n",
    "    c=i%3\n",
    "    axs[r][c].set_xticks([])\n",
    "    axs[r][c].set_yticks([])\n",
    "    axs[r][c].imshow(X_images[i])\n",
    "plt.show()\n"
   ]
  },
  {
   "cell_type": "code",
   "execution_count": 13,
   "id": "84ba18b0",
   "metadata": {
    "execution": {
     "iopub.execute_input": "2021-08-26T15:21:38.993316Z",
     "iopub.status.busy": "2021-08-26T15:21:38.992306Z",
     "iopub.status.idle": "2021-08-26T15:21:39.175064Z",
     "shell.execute_reply": "2021-08-26T15:21:39.174606Z",
     "shell.execute_reply.started": "2021-08-26T15:20:45.697158Z"
    },
    "papermill": {
     "duration": 0.20536,
     "end_time": "2021-08-26T15:21:39.175190",
     "exception": false,
     "start_time": "2021-08-26T15:21:38.969830",
     "status": "completed"
    },
    "tags": []
   },
   "outputs": [],
   "source": [
    "X_train, X_test, y_train, y_test = train_test_split(X_images, y, test_size = 0.2, random_state=90)\n"
   ]
  },
  {
   "cell_type": "code",
   "execution_count": 14,
   "id": "e74287ae",
   "metadata": {
    "execution": {
     "iopub.execute_input": "2021-08-26T15:21:39.215005Z",
     "iopub.status.busy": "2021-08-26T15:21:39.214448Z",
     "iopub.status.idle": "2021-08-26T15:21:39.219912Z",
     "shell.execute_reply": "2021-08-26T15:21:39.219286Z",
     "shell.execute_reply.started": "2021-08-26T15:20:45.885769Z"
    },
    "papermill": {
     "duration": 0.027163,
     "end_time": "2021-08-26T15:21:39.220051",
     "exception": false,
     "start_time": "2021-08-26T15:21:39.192888",
     "status": "completed"
    },
    "tags": []
   },
   "outputs": [
    {
     "name": "stdout",
     "output_type": "stream",
     "text": [
      "(17940, 28, 28)\n",
      "(4485, 28, 28)\n",
      "(17940, 10)\n",
      "(4485, 10)\n"
     ]
    }
   ],
   "source": [
    "print(X_train.shape)\n",
    "print(X_test.shape)\n",
    "print(y_train.shape)\n",
    "print(y_test.shape)\n"
   ]
  },
  {
   "cell_type": "code",
   "execution_count": 15,
   "id": "145f3087",
   "metadata": {
    "execution": {
     "iopub.execute_input": "2021-08-26T15:21:39.260182Z",
     "iopub.status.busy": "2021-08-26T15:21:39.259256Z",
     "iopub.status.idle": "2021-08-26T15:21:39.335659Z",
     "shell.execute_reply": "2021-08-26T15:21:39.335182Z",
     "shell.execute_reply.started": "2021-08-26T15:20:45.894461Z"
    },
    "papermill": {
     "duration": 0.097814,
     "end_time": "2021-08-26T15:21:39.335786",
     "exception": false,
     "start_time": "2021-08-26T15:21:39.237972",
     "status": "completed"
    },
    "tags": []
   },
   "outputs": [],
   "source": [
    "X_train = (X_train/255).reshape(-1,28,28,1).astype('float32')\n",
    "X_test = (X_test/255).reshape(-1,28,28,1).astype('float32')\n"
   ]
  },
  {
   "cell_type": "code",
   "execution_count": 16,
   "id": "d7c5988c",
   "metadata": {
    "execution": {
     "iopub.execute_input": "2021-08-26T15:21:39.376714Z",
     "iopub.status.busy": "2021-08-26T15:21:39.375804Z",
     "iopub.status.idle": "2021-08-26T15:21:39.401807Z",
     "shell.execute_reply": "2021-08-26T15:21:39.402195Z",
     "shell.execute_reply.started": "2021-08-26T15:20:45.972947Z"
    },
    "papermill": {
     "duration": 0.047772,
     "end_time": "2021-08-26T15:21:39.402375",
     "exception": false,
     "start_time": "2021-08-26T15:21:39.354603",
     "status": "completed"
    },
    "tags": []
   },
   "outputs": [],
   "source": [
    "test_images = (test_images/255).reshape(-1,28,28,1).astype('float32')\n"
   ]
  },
  {
   "cell_type": "code",
   "execution_count": 17,
   "id": "d20a0274",
   "metadata": {
    "execution": {
     "iopub.execute_input": "2021-08-26T15:21:39.445381Z",
     "iopub.status.busy": "2021-08-26T15:21:39.444783Z",
     "iopub.status.idle": "2021-08-26T15:21:41.402105Z",
     "shell.execute_reply": "2021-08-26T15:21:41.402595Z",
     "shell.execute_reply.started": "2021-08-26T15:20:46.008431Z"
    },
    "papermill": {
     "duration": 1.981973,
     "end_time": "2021-08-26T15:21:41.402759",
     "exception": false,
     "start_time": "2021-08-26T15:21:39.420786",
     "status": "completed"
    },
    "tags": []
   },
   "outputs": [
    {
     "name": "stdout",
     "output_type": "stream",
     "text": [
      "WARNING:tensorflow:From c:\\Users\\josef\\anaconda3\\envs\\imp\\lib\\site-packages\\keras\\src\\backend.py:873: The name tf.get_default_graph is deprecated. Please use tf.compat.v1.get_default_graph instead.\n",
      "\n",
      "WARNING:tensorflow:From c:\\Users\\josef\\anaconda3\\envs\\imp\\lib\\site-packages\\keras\\src\\layers\\pooling\\max_pooling2d.py:161: The name tf.nn.max_pool is deprecated. Please use tf.nn.max_pool2d instead.\n",
      "\n",
      "WARNING:tensorflow:From c:\\Users\\josef\\anaconda3\\envs\\imp\\lib\\site-packages\\keras\\src\\optimizers\\__init__.py:309: The name tf.train.Optimizer is deprecated. Please use tf.compat.v1.train.Optimizer instead.\n",
      "\n"
     ]
    }
   ],
   "source": [
    "model = Sequential()\n",
    "model.add(Conv2D(32,(4,4),input_shape = (28,28,1),activation = 'relu'))\n",
    "model.add(MaxPooling2D(pool_size=(2,2)))\n",
    "model.add(Conv2D(64,(3,3),activation = 'relu'))\n",
    "model.add(MaxPooling2D(pool_size=(2,2)))\n",
    "model.add(Dropout(0.2))\n",
    "model.add(Flatten())\n",
    "model.add(Dense(128,activation='relu'))\n",
    "model.add(Dense(50, activation='relu'))\n",
    "model.add(Dense(10, activation='softmax'))\n",
    "model.compile(loss='categorical_crossentropy', optimizer='adam',metrics=['accuracy'])\n"
   ]
  },
  {
   "cell_type": "code",
   "execution_count": 18,
   "id": "a11cb843",
   "metadata": {
    "execution": {
     "iopub.execute_input": "2021-08-26T15:21:41.444616Z",
     "iopub.status.busy": "2021-08-26T15:21:41.443285Z",
     "iopub.status.idle": "2021-08-26T15:21:41.450933Z",
     "shell.execute_reply": "2021-08-26T15:21:41.450347Z",
     "shell.execute_reply.started": "2021-08-26T15:20:46.072149Z"
    },
    "papermill": {
     "duration": 0.029985,
     "end_time": "2021-08-26T15:21:41.451081",
     "exception": false,
     "start_time": "2021-08-26T15:21:41.421096",
     "status": "completed"
    },
    "tags": []
   },
   "outputs": [
    {
     "name": "stdout",
     "output_type": "stream",
     "text": [
      "Model: \"sequential\"\n",
      "_________________________________________________________________\n",
      " Layer (type)                Output Shape              Param #   \n",
      "=================================================================\n",
      " conv2d (Conv2D)             (None, 25, 25, 32)        544       \n",
      "                                                                 \n",
      " max_pooling2d (MaxPooling2  (None, 12, 12, 32)        0         \n",
      " D)                                                              \n",
      "                                                                 \n",
      " conv2d_1 (Conv2D)           (None, 10, 10, 64)        18496     \n",
      "                                                                 \n",
      " max_pooling2d_1 (MaxPoolin  (None, 5, 5, 64)          0         \n",
      " g2D)                                                            \n",
      "                                                                 \n",
      " dropout (Dropout)           (None, 5, 5, 64)          0         \n",
      "                                                                 \n",
      " flatten (Flatten)           (None, 1600)              0         \n",
      "                                                                 \n",
      " dense (Dense)               (None, 128)               204928    \n",
      "                                                                 \n",
      " dense_1 (Dense)             (None, 50)                6450      \n",
      "                                                                 \n",
      " dense_2 (Dense)             (None, 10)                510       \n",
      "                                                                 \n",
      "=================================================================\n",
      "Total params: 230928 (902.06 KB)\n",
      "Trainable params: 230928 (902.06 KB)\n",
      "Non-trainable params: 0 (0.00 Byte)\n",
      "_________________________________________________________________\n"
     ]
    }
   ],
   "source": [
    "model.summary()\n"
   ]
  },
  {
   "cell_type": "code",
   "execution_count": 19,
   "id": "12a987b3",
   "metadata": {
    "execution": {
     "iopub.execute_input": "2021-08-26T15:21:41.493238Z",
     "iopub.status.busy": "2021-08-26T15:21:41.492542Z",
     "iopub.status.idle": "2021-08-26T15:22:03.130613Z",
     "shell.execute_reply": "2021-08-26T15:22:03.131479Z",
     "shell.execute_reply.started": "2021-08-26T15:20:46.084989Z"
    },
    "papermill": {
     "duration": 21.661942,
     "end_time": "2021-08-26T15:22:03.131641",
     "exception": false,
     "start_time": "2021-08-26T15:21:41.469699",
     "status": "completed"
    },
    "tags": []
   },
   "outputs": [
    {
     "name": "stdout",
     "output_type": "stream",
     "text": [
      "Epoch 1/30\n",
      "WARNING:tensorflow:From c:\\Users\\josef\\anaconda3\\envs\\imp\\lib\\site-packages\\keras\\src\\utils\\tf_utils.py:492: The name tf.ragged.RaggedTensorValue is deprecated. Please use tf.compat.v1.ragged.RaggedTensorValue instead.\n",
      "\n",
      "WARNING:tensorflow:From c:\\Users\\josef\\anaconda3\\envs\\imp\\lib\\site-packages\\keras\\src\\engine\\base_layer_utils.py:384: The name tf.executing_eagerly_outside_functions is deprecated. Please use tf.compat.v1.executing_eagerly_outside_functions instead.\n",
      "\n",
      "156/156 - 2s - loss: 0.4020 - accuracy: 0.8887 - val_loss: 0.1279 - val_accuracy: 0.9657 - 2s/epoch - 12ms/step\n",
      "Epoch 2/30\n",
      "156/156 - 1s - loss: 0.0861 - accuracy: 0.9769 - val_loss: 0.0910 - val_accuracy: 0.9785 - 1s/epoch - 7ms/step\n",
      "Epoch 3/30\n",
      "156/156 - 1s - loss: 0.0602 - accuracy: 0.9831 - val_loss: 0.0610 - val_accuracy: 0.9822 - 1s/epoch - 7ms/step\n",
      "Epoch 4/30\n",
      "156/156 - 1s - loss: 0.0442 - accuracy: 0.9864 - val_loss: 0.0574 - val_accuracy: 0.9844 - 996ms/epoch - 6ms/step\n",
      "Epoch 5/30\n",
      "156/156 - 1s - loss: 0.0367 - accuracy: 0.9894 - val_loss: 0.0514 - val_accuracy: 0.9858 - 1s/epoch - 7ms/step\n",
      "Epoch 6/30\n",
      "156/156 - 1s - loss: 0.0305 - accuracy: 0.9898 - val_loss: 0.0571 - val_accuracy: 0.9852 - 1s/epoch - 7ms/step\n",
      "Epoch 7/30\n",
      "156/156 - 1s - loss: 0.0261 - accuracy: 0.9925 - val_loss: 0.0449 - val_accuracy: 0.9877 - 1s/epoch - 6ms/step\n",
      "Epoch 8/30\n",
      "156/156 - 1s - loss: 0.0197 - accuracy: 0.9941 - val_loss: 0.0510 - val_accuracy: 0.9872 - 1s/epoch - 7ms/step\n",
      "Epoch 9/30\n",
      "156/156 - 1s - loss: 0.0186 - accuracy: 0.9939 - val_loss: 0.0491 - val_accuracy: 0.9855 - 1s/epoch - 7ms/step\n",
      "Epoch 10/30\n",
      "156/156 - 1s - loss: 0.0161 - accuracy: 0.9957 - val_loss: 0.0478 - val_accuracy: 0.9863 - 1s/epoch - 6ms/step\n",
      "Epoch 11/30\n",
      "156/156 - 1s - loss: 0.0146 - accuracy: 0.9953 - val_loss: 0.0406 - val_accuracy: 0.9886 - 1s/epoch - 6ms/step\n",
      "Epoch 12/30\n",
      "156/156 - 1s - loss: 0.0165 - accuracy: 0.9944 - val_loss: 0.0424 - val_accuracy: 0.9897 - 1s/epoch - 6ms/step\n",
      "Epoch 13/30\n",
      "156/156 - 1s - loss: 0.0112 - accuracy: 0.9966 - val_loss: 0.0557 - val_accuracy: 0.9877 - 998ms/epoch - 6ms/step\n",
      "Epoch 14/30\n",
      "156/156 - 1s - loss: 0.0116 - accuracy: 0.9960 - val_loss: 0.0483 - val_accuracy: 0.9889 - 1s/epoch - 7ms/step\n",
      "Epoch 15/30\n",
      "156/156 - 1s - loss: 0.0112 - accuracy: 0.9962 - val_loss: 0.0536 - val_accuracy: 0.9880 - 1s/epoch - 6ms/step\n",
      "Epoch 16/30\n",
      "156/156 - 1s - loss: 0.0094 - accuracy: 0.9969 - val_loss: 0.0440 - val_accuracy: 0.9897 - 1s/epoch - 7ms/step\n",
      "Epoch 17/30\n",
      "156/156 - 1s - loss: 0.0049 - accuracy: 0.9987 - val_loss: 0.0474 - val_accuracy: 0.9883 - 1s/epoch - 7ms/step\n",
      "Epoch 18/30\n",
      "156/156 - 1s - loss: 0.0041 - accuracy: 0.9987 - val_loss: 0.0507 - val_accuracy: 0.9897 - 1s/epoch - 7ms/step\n",
      "Epoch 19/30\n",
      "156/156 - 1s - loss: 0.0045 - accuracy: 0.9989 - val_loss: 0.0638 - val_accuracy: 0.9880 - 1s/epoch - 6ms/step\n",
      "Epoch 20/30\n",
      "156/156 - 1s - loss: 0.0078 - accuracy: 0.9978 - val_loss: 0.0549 - val_accuracy: 0.9880 - 1s/epoch - 7ms/step\n",
      "Epoch 21/30\n",
      "156/156 - 1s - loss: 0.0088 - accuracy: 0.9974 - val_loss: 0.0607 - val_accuracy: 0.9849 - 1s/epoch - 6ms/step\n",
      "Epoch 22/30\n",
      "156/156 - 1s - loss: 0.0088 - accuracy: 0.9976 - val_loss: 0.0480 - val_accuracy: 0.9891 - 1s/epoch - 7ms/step\n",
      "Epoch 23/30\n",
      "156/156 - 1s - loss: 0.0080 - accuracy: 0.9974 - val_loss: 0.0564 - val_accuracy: 0.9877 - 1s/epoch - 6ms/step\n",
      "Epoch 24/30\n",
      "156/156 - 1s - loss: 0.0067 - accuracy: 0.9976 - val_loss: 0.0561 - val_accuracy: 0.9866 - 1s/epoch - 6ms/step\n",
      "Epoch 25/30\n",
      "156/156 - 1s - loss: 0.0059 - accuracy: 0.9983 - val_loss: 0.0415 - val_accuracy: 0.9886 - 1s/epoch - 7ms/step\n",
      "Epoch 26/30\n",
      "156/156 - 1s - loss: 0.0023 - accuracy: 0.9994 - val_loss: 0.0463 - val_accuracy: 0.9889 - 1s/epoch - 6ms/step\n",
      "Epoch 27/30\n",
      "156/156 - 1s - loss: 0.0014 - accuracy: 0.9994 - val_loss: 0.0547 - val_accuracy: 0.9891 - 1s/epoch - 6ms/step\n",
      "Epoch 28/30\n",
      "156/156 - 1s - loss: 6.8624e-04 - accuracy: 1.0000 - val_loss: 0.0506 - val_accuracy: 0.9894 - 996ms/epoch - 6ms/step\n",
      "Epoch 29/30\n",
      "156/156 - 1s - loss: 0.0071 - accuracy: 0.9980 - val_loss: 0.0453 - val_accuracy: 0.9880 - 995ms/epoch - 6ms/step\n",
      "Epoch 30/30\n",
      "156/156 - 1s - loss: 0.0106 - accuracy: 0.9964 - val_loss: 0.0532 - val_accuracy: 0.9875 - 995ms/epoch - 6ms/step\n"
     ]
    },
    {
     "data": {
      "text/plain": [
       "<keras.src.callbacks.History at 0x21899b27460>"
      ]
     },
     "execution_count": 19,
     "metadata": {},
     "output_type": "execute_result"
    }
   ],
   "source": [
    "result = model.fit(X_train, y_train, validation_split=0.2, epochs=30, batch_size=92, verbose=2)\n",
    "result\n"
   ]
  },
  {
   "cell_type": "code",
   "execution_count": 20,
   "id": "344d4b7f",
   "metadata": {
    "execution": {
     "iopub.execute_input": "2021-08-26T15:22:03.205822Z",
     "iopub.status.busy": "2021-08-26T15:22:03.205169Z",
     "iopub.status.idle": "2021-08-26T15:22:03.569877Z",
     "shell.execute_reply": "2021-08-26T15:22:03.569435Z",
     "shell.execute_reply.started": "2021-08-26T15:20:59.936199Z"
    },
    "papermill": {
     "duration": 0.404484,
     "end_time": "2021-08-26T15:22:03.569999",
     "exception": false,
     "start_time": "2021-08-26T15:22:03.165515",
     "status": "completed"
    },
    "tags": []
   },
   "outputs": [
    {
     "data": {
      "text/plain": [
       "<Axes: >"
      ]
     },
     "execution_count": 20,
     "metadata": {},
     "output_type": "execute_result"
    },
    {
     "data": {
      "image/png": "[encoded data removed]",
      "text/plain": [
       "<Figure size 640x480 with 1 Axes>"
      ]
     },
     "metadata": {},
     "output_type": "display_data"
    },
    {
     "data": {
      "image/png": "[encoded data removed]",
      "text/plain": [
       "<Figure size 640x480 with 1 Axes>"
      ]
     },
     "metadata": {},
     "output_type": "display_data"
    }
   ],
   "source": [
    "his = pd.DataFrame(result.history)\n",
    "his.loc[:, ['accuracy', 'val_accuracy']].plot()\n",
    "his.loc[:, ['loss', 'val_loss']].plot()\n"
   ]
  },
  {
   "cell_type": "code",
   "execution_count": 21,
   "id": "b3584dc7",
   "metadata": {
    "execution": {
     "iopub.execute_input": "2021-08-26T15:22:03.646704Z",
     "iopub.status.busy": "2021-08-26T15:22:03.645837Z",
     "iopub.status.idle": "2021-08-26T15:22:04.016029Z",
     "shell.execute_reply": "2021-08-26T15:22:04.015596Z",
     "shell.execute_reply.started": "2021-08-26T15:21:00.262374Z"
    },
    "papermill": {
     "duration": 0.408932,
     "end_time": "2021-08-26T15:22:04.016152",
     "exception": false,
     "start_time": "2021-08-26T15:22:03.607220",
     "status": "completed"
    },
    "tags": []
   },
   "outputs": [
    {
     "name": "stdout",
     "output_type": "stream",
     "text": [
      "234/234 [==============================] - 0s 1ms/step\n",
      "[4.5583288e-09 2.4743221e-07 2.7961841e-08 9.7005111e-01 7.6110362e-10\n",
      " 2.9904820e-02 7.4918702e-09 3.6211185e-07 1.3455206e-06 4.2057101e-05]\n"
     ]
    }
   ],
   "source": [
    "y_pred = model.predict(test_images)\n",
    "print(y_pred[0])\n"
   ]
  },
  {
   "cell_type": "code",
   "execution_count": 22,
   "id": "0c5a1911",
   "metadata": {
    "execution": {
     "iopub.execute_input": "2021-08-26T15:22:04.094443Z",
     "iopub.status.busy": "2021-08-26T15:22:04.093691Z",
     "iopub.status.idle": "2021-08-26T15:22:04.121100Z",
     "shell.execute_reply": "2021-08-26T15:22:04.120506Z",
     "shell.execute_reply.started": "2021-08-26T15:21:00.579235Z"
    },
    "papermill": {
     "duration": 0.067532,
     "end_time": "2021-08-26T15:22:04.121243",
     "exception": false,
     "start_time": "2021-08-26T15:22:04.053711",
     "status": "completed"
    },
    "tags": []
   },
   "outputs": [
    {
     "name": "stdout",
     "output_type": "stream",
     "text": [
      "[3 3 1 2 0 2 9 2 8 6]\n",
      "[3 3 1 2 0 2 9 2 8 6]\n"
     ]
    }
   ],
   "source": [
    "y_pred2=[]\n",
    "for item in y_pred:\n",
    "    y_pred2+=[np.argmax(item)   ]\n",
    "PRED=np.array(y_pred2)\n",
    "ANS=np.array(testY)\n",
    "print(PRED[0:10])\n",
    "print(ANS[0:10])\n"
   ]
  },
  {
   "cell_type": "code",
   "execution_count": 23,
   "id": "97cae3aa",
   "metadata": {
    "execution": {
     "iopub.execute_input": "2021-08-26T15:22:04.196948Z",
     "iopub.status.busy": "2021-08-26T15:22:04.196171Z",
     "iopub.status.idle": "2021-08-26T15:22:04.201174Z",
     "shell.execute_reply": "2021-08-26T15:22:04.201572Z",
     "shell.execute_reply.started": "2021-08-26T15:21:00.616946Z"
    },
    "papermill": {
     "duration": 0.044307,
     "end_time": "2021-08-26T15:22:04.201696",
     "exception": false,
     "start_time": "2021-08-26T15:22:04.157389",
     "status": "completed"
    },
    "tags": []
   },
   "outputs": [
    {
     "data": {
      "text/plain": [
       "0.9905016722408027"
      ]
     },
     "execution_count": 23,
     "metadata": {},
     "output_type": "execute_result"
    }
   ],
   "source": [
    "accuracy_score(ANS,PRED)\n"
   ]
  },
  {
   "cell_type": "code",
   "execution_count": 26,
   "id": "e327c0c1",
   "metadata": {
    "papermill": {
     "duration": 0.035655,
     "end_time": "2021-08-26T15:22:04.273646",
     "exception": false,
     "start_time": "2021-08-26T15:22:04.237991",
     "status": "completed"
    },
    "tags": []
   },
   "outputs": [
    {
     "name": "stdout",
     "output_type": "stream",
     "text": [
      "Model: \"sequential\"\n",
      "_________________________________________________________________\n",
      " Layer (type)                Output Shape              Param #   \n",
      "=================================================================\n",
      " conv2d (Conv2D)             (None, 25, 25, 32)        544       \n",
      "                                                                 \n",
      " max_pooling2d (MaxPooling2  (None, 12, 12, 32)        0         \n",
      " D)                                                              \n",
      "                                                                 \n",
      " conv2d_1 (Conv2D)           (None, 10, 10, 64)        18496     \n",
      "                                                                 \n",
      " max_pooling2d_1 (MaxPoolin  (None, 5, 5, 64)          0         \n",
      " g2D)                                                            \n",
      "                                                                 \n",
      " dropout (Dropout)           (None, 5, 5, 64)          0         \n",
      "                                                                 \n",
      " flatten (Flatten)           (None, 1600)              0         \n",
      "                                                                 \n",
      " dense (Dense)               (None, 128)               204928    \n",
      "                                                                 \n",
      " dense_1 (Dense)             (None, 50)                6450      \n",
      "                                                                 \n",
      " dense_2 (Dense)             (None, 10)                510       \n",
      "                                                                 \n",
      "=================================================================\n",
      "Total params: 230928 (902.06 KB)\n",
      "Trainable params: 230928 (902.06 KB)\n",
      "Non-trainable params: 0 (0.00 Byte)\n",
      "_________________________________________________________________\n",
      "None\n",
      "INFO:tensorflow:Assets written to: C:\\Users\\josef\\AppData\\Local\\Temp\\tmpxhejqqy9\\assets\n"
     ]
    },
    {
     "name": "stderr",
     "output_type": "stream",
     "text": [
      "INFO:tensorflow:Assets written to: C:\\Users\\josef\\AppData\\Local\\Temp\\tmpxhejqqy9\\assets\n",
      "c:\\Users\\josef\\anaconda3\\envs\\imp\\lib\\site-packages\\tensorflow\\lite\\python\\convert.py:953: UserWarning: Statistics for quantized inputs were expected, but not specified; continuing anyway.\n",
      "  warnings.warn(\n"
     ]
    }
   ],
   "source": [
    "import tensorflow as tf\n",
    "print(model.summary())\n",
    "\n",
    "# Create representative dataset\n",
    "rep_data = X_train[:1000]\n",
    "rep_labels = y_train[:1000]\n",
    "\n",
    "# Convert the representative dataset to a tensor\n",
    "rep_data = tf.cast(rep_data, tf.float32)\n",
    "\n",
    "# Create the representative dataset function\n",
    "def representative_dataset():\n",
    "    for i in range(1000):\n",
    "        yield [rep_data[i:i+1]]\n",
    "\n",
    "# Convert to TensorFlow Lite model\n",
    "converter = tf.lite.TFLiteConverter.from_keras_model(model)\n",
    "converter.optimizations = [tf.lite.Optimize.DEFAULT]\n",
    "converter.representative_dataset = representative_dataset\n",
    "tflite_model = converter.convert()\n",
    "# Save the model\n",
    "with open('tmnist_model.tflite', 'wb') as f:\n",
    "    f.write(tflite_model)\n"
   ]
  }
 ],
 "metadata": {
  "kernelspec": {
   "display_name": "Python 3",
   "language": "python",
   "name": "python3"
  },
  "language_info": {
   "codemirror_mode": {
    "name": "ipython",
    "version": 3
   },
   "file_extension": ".py",
   "mimetype": "text/x-python",
   "name": "python",
   "nbconvert_exporter": "python",
   "pygments_lexer": "ipython3",
   "version": "3.10.13"
  },
  "papermill": {
   "default_parameters": {},
   "duration": 42.538049,
   "end_time": "2021-08-26T15:22:06.877916",
   "environment_variables": {},
   "exception": null,
   "input_path": "__notebook__.ipynb",
   "output_path": "__notebook__.ipynb",
   "parameters": {},
   "start_time": "2021-08-26T15:21:24.339867",
   "version": "2.3.3"
  }
 },
 "nbformat": 4,
 "nbformat_minor": 5
}
